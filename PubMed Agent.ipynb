{
 "cells": [
  {
   "cell_type": "code",
   "execution_count": 33,
   "id": "988a8c74-fb40-4c4a-92a0-caf67196a57e",
   "metadata": {},
   "outputs": [
    {
     "name": "stdout",
     "output_type": "stream",
     "text": [
      "API key loaded successfully!\n"
     ]
    }
   ],
   "source": [
    "import openai\n",
    "import os\n",
    "\n",
    "file_path = 
    "# Read the API key from the file\n",
    "with open(file_path, \"r\") as file:\n",
    "    openai_api_key = file.read().strip()  # Remove any extra whitespace\n",
    "\n",
    "# Set the API key for OpenAI\n",
    "import openai\n",
    "openai.api_key = openai_api_key\n",
    "\n",
    "print(\"API key loaded successfully!\")"
   ]
  },
  {
   "cell_type": "code",
   "execution_count": 34,
   "id": "a3174b99-b267-4ca8-9c44-800b0faddc28",
   "metadata": {},
   "outputs": [],
   "source": [
    "from Bio import Entrez\n",
    "\n",
    "Entrez.email = \"your_email@gmail.com\"\n"
   ]
  },
  {
   "cell_type": "code",
   "execution_count": 38,
   "id": "c9c3ce2c-4b64-4b29-a7d9-cd995474fc4b",
   "metadata": {},
   "outputs": [],
   "source": [
    "# Required Libraries\n",
    "from Bio import Entrez\n",
    "from llama_index.core import (\n",
    "    Document,\n",
    "    GPTVectorStoreIndex,\n",
    "    ServiceContext,\n",
    "    SimpleDirectoryReader,\n",
    "    StorageContext,\n",
    ")"
   ]
  },
  {
   "cell_type": "code",
   "execution_count": 43,
   "id": "b775efcd-1d87-4420-b3ea-20fff34efe75",
   "metadata": {},
   "outputs": [],
   "source": [
    "from llama_index.core.agent import ReActAgent\n",
    "from llama_index.llms.openai import OpenAI\n",
    "from llama_index.core.tools import FunctionTool"
   ]
  },
  {
   "cell_type": "code",
   "execution_count": 44,
   "id": "6b352601-b5cf-499b-8764-1eb49b4ba48e",
   "metadata": {},
   "outputs": [],
   "source": [
    "# Step 1: Define the PubMed tool function\n",
    "def query_pubmed(query: str, max_results: int = 5) -> str:\n",
    "    \"\"\"\n",
    "    Function to query PubMed and fetch article summaries.\n",
    "    \"\"\"\n",
    "    try:\n",
    "        # Search PubMed\n",
    "        handle = Entrez.esearch(db=\"pubmed\", term=query, retmax=max_results)\n",
    "        record = Entrez.read(handle)\n",
    "        handle.close()\n",
    "        id_list = record[\"IdList\"]\n",
    "        \n",
    "        # Fetch summaries for the articles\n",
    "        articles = []\n",
    "        for pubmed_id in id_list:\n",
    "            summary_handle = Entrez.esummary(db=\"pubmed\", id=pubmed_id, retmode=\"xml\")\n",
    "            summary_record = Entrez.read(summary_handle)\n",
    "            summary_handle.close()\n",
    "            \n",
    "            article = summary_record[0]\n",
    "            articles.append(f\"Title: {article.get('Title', 'N/A')}\\n\"\n",
    "                            f\"Authors: {', '.join(article.get('AuthorList', []))}\\n\"\n",
    "                            f\"Source: {article.get('Source', 'N/A')}\\n\"\n",
    "                            f\"PubDate: {article.get('PubDate', 'N/A')}\")\n",
    "        return \"\\n\\n\".join(articles) if articles else \"No articles found.\"\n",
    "    except Exception as e:\n",
    "        return f\"Error querying PubMed: {e}\""
   ]
  },
  {
   "cell_type": "code",
   "execution_count": 45,
   "id": "3a39cce2-43c8-41d9-b120-e7e4906b438a",
   "metadata": {},
   "outputs": [
    {
     "name": "stdout",
     "output_type": "stream",
     "text": [
      "I found some recent articles related to diabetes treatment:\n",
      "\n",
      "1. \"Comparing Synchronous and Asynchronous Remotely Delivered Lifestyle Interventions: Protocol for a Randomized Noninferiority Trial\" by Pagoto S, Xu R, Bannor R, Idiong C, Goetz J, Fernandes D, published in JMIR Research Protocols on December 19, 2024.\n",
      "2. \"Multimorbidity in elderly patients with or without T2DM: A real-world cross-sectional analysis based on primary care and hospitalization data\" by Li Y, Geng S, Yuan H, Ge J, Li Q, Chen X, Zhu Y, Liu Y, Guo X, Wang X, Jiang H, published in the Journal of Global Health on December 20, 2024.\n",
      "3. \"Challenges in diagnosis and treatment of KCNJ11-MODY\" by Gonçalves J, Ferreira HU, Ribeiro S, Fernandes da Rocha D, Souto SB, Pedro J, Freitas P, Queirós J, published in Endocrinology, Diabetes & Metabolism Case Reports on October 1, 2024.\n",
      "4. \"Thyroid metastasis from ovarian clear cell carcinoma\" by Sasaki R, Yamazaki H, Kumagai E, Toda S, Saito A, published in Endocrinology, Diabetes & Metabolism Case Reports on October 1, 2024.\n",
      "5. \"Primary hyperparathyroidism due to a giant parathyroid adenoma presenting with pathological fractures and multiple brown tumors\" by Meng J, Aboznadah WM, Pusztaszeri M, Larouche V, published in Endocrinology, Diabetes & Metabolism Case Reports on October 1, 2024.\n"
     ]
    }
   ],
   "source": [
    "# Step 2: Wrap the PubMed function into a tool\n",
    "pubmed_tool = FunctionTool.from_defaults(\n",
    "    fn=query_pubmed,\n",
    "    name=\"PubMedQuery\",\n",
    "    description=\"Searches PubMed for scientific articles related to the query.\"\n",
    ")\n",
    "\n",
    "# Step 3: Initialize the ReActAgent\n",
    "tools = [pubmed_tool]\n",
    "llm = OpenAI(model=\"gpt-3.5-turbo\", api_key=openai.api_key)  # Specify the model\n",
    "react_agent = ReActAgent.from_tools(tools=tools, llm=llm)\n",
    "\n",
    "# Step 4: Query the agent\n",
    "query = \"Find recent articles on diabetes treatment.\"\n",
    "response = react_agent.chat(query)\n",
    "\n",
    "# Step 5: Print the response\n",
    "print(response)"
   ]
  },
  {
   "cell_type": "code",
   "execution_count": null,
   "id": "4c8f686a-1d52-4c56-be71-f4f6c64fc761",
   "metadata": {},
   "outputs": [],
   "source": []
  },
  {
   "cell_type": "code",
   "execution_count": null,
   "id": "fb90bfb4-e8dc-4199-9bcd-931c7a186cb0",
   "metadata": {},
   "outputs": [],
   "source": []
  },
  {
   "cell_type": "code",
   "execution_count": null,
   "id": "9b5b5562-ce0e-450e-ac78-cc81ed69b4aa",
   "metadata": {},
   "outputs": [],
   "source": []
  },
  {
   "cell_type": "code",
   "execution_count": null,
   "id": "ba3e9101-ad26-4698-b6cb-b819286e7c98",
   "metadata": {},
   "outputs": [],
   "source": []
  },
  {
   "cell_type": "code",
   "execution_count": null,
   "id": "87951109-2818-40c0-860c-60b2ef9aef39",
   "metadata": {},
   "outputs": [],
   "source": []
  },
  {
   "cell_type": "code",
   "execution_count": null,
   "id": "9a5a23fb-d269-47df-b529-eab7c22fa150",
   "metadata": {},
   "outputs": [],
   "source": []
  },
  {
   "cell_type": "code",
   "execution_count": null,
   "id": "d435ca84-5815-4e1b-a9b0-00c38114bc10",
   "metadata": {},
   "outputs": [],
   "source": []
  },
  {
   "cell_type": "code",
   "execution_count": null,
   "id": "ac5e36d9-d65c-4bed-b252-4638cc6209a4",
   "metadata": {},
   "outputs": [],
   "source": []
  },
  {
   "cell_type": "code",
   "execution_count": null,
   "id": "d621ade4-5b0b-4608-8620-5068b05289ca",
   "metadata": {},
   "outputs": [],
   "source": []
  },
  {
   "cell_type": "code",
   "execution_count": null,
   "id": "08e1ff7d-c6ea-49a2-9280-aae2c85a87f4",
   "metadata": {},
   "outputs": [],
   "source": []
  }
 ],
 "metadata": {
  "kernelspec": {
   "display_name": "Python 3 (ipykernel)",
   "language": "python",
   "name": "python3"
  },
  "language_info": {
   "codemirror_mode": {
    "name": "ipython",
    "version": 3
   },
   "file_extension": ".py",
   "mimetype": "text/x-python",
   "name": "python",
   "nbconvert_exporter": "python",
   "pygments_lexer": "ipython3",
   "version": "3.12.7"
  }
 },
 "nbformat": 4,
 "nbformat_minor": 5
}
